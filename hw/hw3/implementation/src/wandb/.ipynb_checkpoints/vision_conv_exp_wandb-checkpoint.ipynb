{
 "cells": [
  {
   "cell_type": "code",
   "execution_count": 1,
   "metadata": {
    "colab": {
     "base_uri": "https://localhost:8080/"
    },
    "id": "L4sBB9iwRn2O",
    "outputId": "4be6249c-74a1-4eef-c066-a0056590d681"
   },
   "outputs": [],
   "source": [
    "# from google.colab import drive\n",
    "# import re\n",
    "# drive.mount('/content/drive')"
   ]
  },
  {
   "cell_type": "code",
   "execution_count": 2,
   "metadata": {
    "id": "3nyJh9qgTUPG"
   },
   "outputs": [],
   "source": [
    "# !tar -xzvf \"/content/drive/MyDrive/CENG_483/HW_3/the3_data.tar.gz\" -C \"/content/drive/MyDrive/CENG_483/HW_3/\""
   ]
  },
  {
   "cell_type": "code",
   "execution_count": 3,
   "metadata": {
    "colab": {
     "base_uri": "https://localhost:8080/"
    },
    "id": "D3j6NdkaR7hY",
    "outputId": "28ee8ea4-6e38-4cce-9413-42a2600eeb5b"
   },
   "outputs": [],
   "source": [
    "# !tar -xzvf \"/content/drive/MyDrive/CENG_483/HW_3/src.tar.gz\" -C ."
   ]
  },
  {
   "cell_type": "code",
   "execution_count": 15,
   "metadata": {
    "id": "N66SguTQSgCA"
   },
   "outputs": [],
   "source": [
    "# --- imports ---\n",
    "from ast import With\n",
    "import torch\n",
    "import os\n",
    "import matplotlib.pyplot as plt\n",
    "import numpy as np\n",
    "import torch.nn as nn\n",
    "import torch.nn.functional as F\n",
    "import torch.optim as optim\n",
    "import torchvision.transforms as transforms\n",
    "import hw3utils\n",
    "torch.multiprocessing.set_start_method('spawn', force=True)"
   ]
  },
  {
   "cell_type": "code",
   "execution_count": null,
   "metadata": {},
   "outputs": [],
   "source": []
  },
  {
   "cell_type": "code",
   "execution_count": 16,
   "metadata": {
    "colab": {
     "base_uri": "https://localhost:8080/"
    },
    "id": "93tZhPrQRmpB",
    "outputId": "6c639be9-b53c-44d6-d426-28191f5a9833"
   },
   "outputs": [
    {
     "name": "stdout",
     "output_type": "stream",
     "text": [
      "device: cuda:0\n"
     ]
    }
   ],
   "source": [
    "# Feel free to change / extend / adapt this source code as needed to complete the homework, based on its requirements.\n",
    "# This code is given as a starting point.\n",
    "#\n",
    "# REFEFERENCES\n",
    "# The code is partly adapted from pytorch tutorials, including https://pytorch.org/tutorials/beginner/blitz/cifar10_tutorial.html\n",
    "\n",
    "# ---- hyper-parameters ----\n",
    "# You should tune these hyper-parameters using:\n",
    "# (i) your reasoning and observations, \n",
    "# (ii) by tuning it on the validation set, using the techniques discussed in class.\n",
    "# You definitely can add more hyper-parameters here.\n",
    "batch_size = 16\n",
    "max_num_epoch = 100\n",
    "hps = {'lr':0.001}\n",
    "\n",
    "# ---- options ----\n",
    "DEVICE_ID = 'cuda:0' # set to 'cpu' for cpu, 'cuda' / 'cuda:0' or similar for gpu.\n",
    "# device = torch.device(DEVICE_ID)\n",
    "device = torch.device(\"cuda:0\" if torch.cuda.is_available() else \"cpu\")\n",
    "print('device: ' + str(device))\n",
    "\n",
    "# Experiment desription\n",
    "EXP = '4_conv_relu'\n",
    "LOG_DIR = 'checkpoints_'+ EXP\n",
    "\n",
    "VISUALIZE = False # set True to visualize input, prediction and the output from the last batch\n",
    "LOAD_CHKPT = False"
   ]
  },
  {
   "cell_type": "code",
   "execution_count": 17,
   "metadata": {
    "id": "fzMY6HU2o2Mn"
   },
   "outputs": [],
   "source": [
    "# Ensure deterministic behavior\n",
    "import random\n",
    "from tqdm.notebook import tqdm\n",
    "torch.backends.cudnn.deterministic = True\n",
    "random.seed(hash(\"setting random seeds\") % 2**32 - 1)\n",
    "np.random.seed(hash(\"improves reproducibility\") % 2**32 - 1)\n",
    "torch.manual_seed(hash(\"by removing stochasticity\") % 2**32 - 1)\n",
    "torch.cuda.manual_seed_all(hash(\"so runs are repeatable\") % 2**32 - 1)"
   ]
  },
  {
   "cell_type": "code",
   "execution_count": 18,
   "metadata": {
    "colab": {
     "base_uri": "https://localhost:8080/"
    },
    "id": "F3uNdiC-pVrm",
    "outputId": "8956e5ab-85a8-4fe0-cc50-31fd8f6ab2e9"
   },
   "outputs": [],
   "source": [
    "# !pip install wandb --upgrade"
   ]
  },
  {
   "cell_type": "code",
   "execution_count": 19,
   "metadata": {
    "colab": {
     "base_uri": "https://localhost:8080/"
    },
    "id": "au3JhUPUpbUy",
    "outputId": "f0ec7a1f-5c73-498c-daf7-2228f81692e5"
   },
   "outputs": [
    {
     "name": "stderr",
     "output_type": "stream",
     "text": [
      "\u001b[34m\u001b[1mwandb\u001b[0m: \u001b[33mWARNING\u001b[0m Calling wandb.login() after wandb.init() has no effect.\n"
     ]
    },
    {
     "data": {
      "text/plain": [
       "True"
      ]
     },
     "execution_count": 19,
     "metadata": {},
     "output_type": "execute_result"
    }
   ],
   "source": [
    "import wandb\n",
    "\n",
    "wandb.login()"
   ]
  },
  {
   "cell_type": "code",
   "execution_count": 20,
   "metadata": {
    "id": "PfIX33Z2pegP"
   },
   "outputs": [],
   "source": [
    "config = dict(\n",
    "    epochs=max_num_epoch,\n",
    "    batch_size=batch_size,\n",
    "    learning_rate=hps['lr'],\n",
    "    architecture=\"CNN\")"
   ]
  },
  {
   "cell_type": "code",
   "execution_count": 21,
   "metadata": {
    "id": "JGZt1G7WqHX-"
   },
   "outputs": [],
   "source": [
    "def model_pipeline(hyperparameters):\n",
    "\n",
    "      # tell wandb to get started\n",
    "      wandb.init(project=\"vision\", entity=\"alpayozkan\", config=hyperparameters)\n",
    "      # access all HPs through wandb.config, so logging matches execution!\n",
    "      config = wandb.config\n",
    "\n",
    "      # make the model, data, and optimization problem\n",
    "      model, train_loader, valid_loader, test_loader, criterion, optimizer = make(config)\n",
    "      # print(len(train_loader))\n",
    "      print(model)\n",
    "\n",
    "      # premature test for getting the random value\n",
    "      # test_no_log(model, test_loader)\n",
    "      \n",
    "      # and use them to train the model\n",
    "      train(model, train_loader, valid_loader, criterion, optimizer, config)\n",
    "\n",
    "      # and test its final performance\n",
    "      # test(model, test_loader)\n",
    "\n",
    "      return model"
   ]
  },
  {
   "cell_type": "code",
   "execution_count": 22,
   "metadata": {
    "id": "QhrFR3S-qsOt"
   },
   "outputs": [],
   "source": [
    "def make(config):\n",
    "    # ---- training code -----\n",
    "    \n",
    "    \n",
    "    # Make the model\n",
    "    model = Net().to(device=device)\n",
    "    criterion = nn.MSELoss()\n",
    "    optimizer = optim.SGD(model.parameters(), lr=config.learning_rate)\n",
    "    \n",
    "    # Make the data\n",
    "    train_loader, valid_loader, test_loader = get_loaders(config.batch_size, device)\n",
    "\n",
    "    return model, train_loader, valid_loader, test_loader, criterion, optimizer"
   ]
  },
  {
   "cell_type": "code",
   "execution_count": 23,
   "metadata": {
    "id": "iMQwtNS_S42r"
   },
   "outputs": [],
   "source": [
    "# ---- utility functions -----\n",
    "def get_loaders(batch_size,device):\n",
    "    data_root = '../../ceng483-s19-hw3-dataset' # modified this otherwise received error\n",
    "    \n",
    "    train_set = hw3utils.HW3ImageFolder(root=os.path.join(data_root,'train'),device=device)\n",
    "    train_loader = torch.utils.data.DataLoader(train_set, batch_size=batch_size, shuffle=True, num_workers=0)\n",
    "    \n",
    "    valid_set = hw3utils.HW3ImageFolder(root=os.path.join(data_root,'val'),device=device)\n",
    "    valid_loader = torch.utils.data.DataLoader(valid_set, batch_size=batch_size, shuffle=False, num_workers=0)\n",
    "    \n",
    "    test_loader = None\n",
    "    # Note: you may later add test_loader to here.\n",
    "\n",
    "    # ama ayri test data si yok o zaman valid i parcalicam ?!\n",
    "    # test directory sindekiler renkli degil\n",
    "    return train_loader, valid_loader, test_loader"
   ]
  },
  {
   "cell_type": "code",
   "execution_count": 24,
   "metadata": {
    "id": "fogUD9IHTFUw"
   },
   "outputs": [],
   "source": [
    "# ---- ConvNet -----\n",
    "class Net(nn.Module):\n",
    "    def __init__(self):\n",
    "        super(Net, self).__init__()\n",
    "        # burda en fazla 4 conv ?\n",
    "        # fcc ?\n",
    "        # network 3-4 conv la bu task i cozebilecek mi, baktigim paperdaki network cok daha complex idi\n",
    "        self.conv1 = nn.Conv2d(1, 8, 3, padding=1)\n",
    "        self.conv2 = nn.Conv2d(8, 8, 3, padding=1)\n",
    "        self.conv3 = nn.Conv2d(8, 8, 3, padding=1)\n",
    "        self.conv4 = nn.Conv2d(8, 3, 3, padding=1)\n",
    "        self.relu = nn.ReLU()\n",
    "\n",
    "    def forward(self, grayscale_image):\n",
    "        # apply your network's layers in the following lines:      \n",
    "        x = self.relu(self.conv1(grayscale_image))\n",
    "        x = self.relu(self.conv2(x))\n",
    "        x = self.relu(self.conv3(x))\n",
    "        x = self.conv4(x)\n",
    "        return x"
   ]
  },
  {
   "cell_type": "code",
   "execution_count": 25,
   "metadata": {
    "id": "7NzMbgwmTHeI"
   },
   "outputs": [],
   "source": [
    "def train(model, train_loader, valid_loader, criterion, optimizer, config):\n",
    "    # Tell wandb to watch what the model gets up to: gradients, weights, and more!\n",
    "    wandb.watch(model, criterion, log=\"all\", log_freq=10)\n",
    "\n",
    "    # Run training and track with wandb\n",
    "    total_batches = len(train_loader) * config.epochs\n",
    "    \n",
    "    print('training begins')\n",
    "    for epoch in tqdm(range(config.epochs)):\n",
    "        loss_valid_c = 0\n",
    "        loss_train_c = 0\n",
    "\n",
    "        example_ct_train = 0  # number of examples seen Train\n",
    "        example_ct_valid = 0  # number of examples seen Valid\n",
    "        batch_ct_train = 0\n",
    "        batch_ct_valid = 0\n",
    "\n",
    "        model.train()\n",
    "        for _, (images, labels) in enumerate(train_loader):\n",
    "            images, labels = images.to(device), labels.to(device)\n",
    "    \n",
    "            outputs = model(images)\n",
    "            loss = criterion(outputs, labels)\n",
    "            optimizer.zero_grad()\n",
    "            loss.backward()\n",
    "            optimizer.step()\n",
    "\n",
    "            loss_train = loss\n",
    "            # loss_train = train_batch(images, labels, model, optimizer, criterion)\n",
    "            loss_train_c += loss_train.item() \n",
    "            example_ct_train +=  len(images)\n",
    "            batch_ct_train += 1\n",
    "\n",
    "            #  if ((batch_ct + 1) % 25) == 0:\n",
    "            #     train_log(train_loss, example_ct, epoch)\n",
    "        \n",
    "        model.eval()\n",
    "        with torch.no_grad():\n",
    "          for _, (images, labels) in enumerate(valid_loader):\n",
    "            images, labels = images.to(device), labels.to(device)\n",
    "           \n",
    "            predicted = model(images)\n",
    "            loss = criterion(predicted, labels)\n",
    "\n",
    "            loss_valid = loss\n",
    "            # loss_valid = valid_batch(images, labels, model, criterion)\n",
    "            loss_valid_c += loss_valid.item()\n",
    "\n",
    "            example_ct_valid +=  len(images)\n",
    "            batch_ct_valid += 1\n",
    "            \n",
    "        loss_train = loss_train_c / example_ct_train\n",
    "        loss_valid = loss_valid_c / example_ct_valid\n",
    "        \n",
    "        loss_log(loss_train, loss_valid, epoch)\n",
    "\n",
    "\n",
    "        print('Saving the model, end of epoch %d' % (epoch+1))\n",
    "        if not os.path.exists(LOG_DIR):\n",
    "            os.makedirs(LOG_DIR)\n",
    "        torch.save(model.state_dict(), os.path.join(LOG_DIR,'checkpoint.pt'))\n",
    "        hw3utils.visualize_batch(images, labels, predicted , os.path.join(LOG_DIR,'example' + str(epoch+1) + '.png'))\n",
    "    print('Finished Training')\n",
    "\n",
    "def train_batch(images, labels, model, optimizer, criterion):\n",
    "    images, labels = images.to(device), labels.to(device)\n",
    "    \n",
    "    outputs = model(images)\n",
    "    \n",
    "    loss = criterion(outputs, labels)\n",
    "    \n",
    "    optimizer.zero_grad()\n",
    "    loss.backward()\n",
    "\n",
    "    optimizer.step()\n",
    "\n",
    "    return loss\n",
    "\n",
    "\n",
    "def valid_batch(images, labels, model, criterion):\n",
    "    images, labels = images.to(device), labels.to(device)\n",
    "    predicted = model(images)\n",
    "    loss = criterion(predicted, labels)\n",
    "    return loss\n"
   ]
  },
  {
   "cell_type": "code",
   "execution_count": 26,
   "metadata": {
    "id": "5aJd6r1fAiTv"
   },
   "outputs": [],
   "source": [
    "def loss_log(loss_train, loss_valid, epoch):\n",
    "    # Where the magic happens\n",
    "    wandb.log({\"epoch\": epoch+1, \"train_loss\": loss_train, \"valid_loss\": loss_valid})\n",
    "    print(f\"Epochs \" + str(epoch+1) + f\" Train loss: {loss_train:.3f}\" + f\" Valid loss: {loss_valid:.3f}\")"
   ]
  },
  {
   "cell_type": "code",
   "execution_count": 27,
   "metadata": {
    "id": "sveXHw1RAnO7"
   },
   "outputs": [],
   "source": [
    "def test(model, test_loader):\n",
    "    model.eval()\n",
    "    # ERROR: TEST i update l, su andaki hatali gibi\n",
    "    # https://colab.research.google.com/drive/1vraYK2z8CJsqv5Mxe6h3VODQe_TvBmO9#scrollTo=sq4iJCnqohnf\n",
    "    # check_accuracy  \n",
    "    \n",
    "    # Run the model on some test examples\n",
    "    with torch.no_grad():\n",
    "        loss, total = 0, 0\n",
    "        for images, labels in test_loader:\n",
    "            images, labels = images.to(device), labels.to(device)\n",
    "            outputs = model(images)\n",
    "            loss += F.mse_loss(outputs, labels)\n",
    "            total += labels.size(0)\n",
    "            \n",
    "            \n",
    "\n",
    "        print(f\"Loss of the model on the {total} \" +\n",
    "              f\"test images: {loss / total}\")\n",
    "        \n",
    "        wandb.log({\"test images (mse)\": loss / total})\n",
    "\n",
    "    # Save the model in the exchangeable ONNX format\n",
    "    torch.onnx.export(model, images, \"model.onnx\")\n",
    "    wandb.save(\"model.onnx\")\n",
    "\n",
    "def test_no_log(model, test_loader):\n",
    "    model.eval()\n",
    "\n",
    "    # Run the model on some test examples\n",
    "    with torch.no_grad():\n",
    "        loss, total = 0, 0\n",
    "        for images, labels in test_loader:\n",
    "            images, labels = images.to(device), labels.to(device)\n",
    "            outputs = model(images)\n",
    "            loss += F.mse_loss(outputs, labels)\n",
    "            total += labels.size(0)\n",
    "        print(f\"Loss of the model on the {total} \" + f\"test images: {loss / total}\")"
   ]
  },
  {
   "cell_type": "code",
   "execution_count": null,
   "metadata": {
    "colab": {
     "base_uri": "https://localhost:8080/",
     "height": 188,
     "referenced_widgets": [
      "72e1a11f54cb4a72bb87495f96150e88",
      "b98d2e5e9645421891798750cb1f9f86",
      "c5b5e8638fe74ab1927d89bdeab96c44",
      "ee449c40cc1f4dc283c25a4fd0db468c",
      "ffdbdd3093704093a6fd215b07bd2ccf",
      "dac0f0c16f474eafbde28409e357c3a1",
      "5b65350156ba4f3b8e0740b507e80597",
      "dec1807cf547400899d42e4b6e42b5bf",
      "012046de6db544a192d26e05649225d6",
      "e65e79f5e637469f9834735048c085fc",
      "c85c33331aee4bdda5b3dc28acdd0535"
     ]
    },
    "id": "34DM29SsApSQ",
    "outputId": "35948589-e85a-491f-8a8b-16144f39117d"
   },
   "outputs": [
    {
     "data": {
      "text/html": [
       "Finishing last run (ID:234wr1or) before initializing another..."
      ],
      "text/plain": [
       "<IPython.core.display.HTML object>"
      ]
     },
     "metadata": {},
     "output_type": "display_data"
    },
    {
     "data": {
      "text/html": [
       "<br/>Waiting for W&B process to finish, PID 27663... <strong style=\"color:green\">(success).</strong>"
      ],
      "text/plain": [
       "<IPython.core.display.HTML object>"
      ]
     },
     "metadata": {},
     "output_type": "display_data"
    },
    {
     "data": {
      "application/vnd.jupyter.widget-view+json": {
       "model_id": "",
       "version_major": 2,
       "version_minor": 0
      },
      "text/plain": [
       "VBox(children=(Label(value=' 0.00MB of 0.00MB uploaded (0.00MB deduped)\\r'), FloatProgress(value=1.0, max=1.0)…"
      ]
     },
     "metadata": {},
     "output_type": "display_data"
    },
    {
     "data": {
      "text/html": [
       "<style>\n",
       "    table.wandb td:nth-child(1) { padding: 0 10px; text-align: right }\n",
       "    .wandb-row { display: flex; flex-direction: row; flex-wrap: wrap; width: 100% }\n",
       "    .wandb-col { display: flex; flex-direction: column; flex-basis: 100%; flex: 1; padding: 10px; }\n",
       "    </style>\n",
       "<div class=\"wandb-row\"><div class=\"wandb-col\">\n",
       "</div><div class=\"wandb-col\">\n",
       "</div></div>\n",
       "Synced 6 W&B file(s), 0 media file(s), 0 artifact file(s) and 0 other file(s)\n",
       "<br/>Synced <strong style=\"color:#cdcd00\">young-sun-30</strong>: <a href=\"https://wandb.ai/alpayozkan/vision/runs/234wr1or\" target=\"_blank\">https://wandb.ai/alpayozkan/vision/runs/234wr1or</a><br/>\n",
       "Find logs at: <code>./wandb/run-20220124_100852-234wr1or/logs</code><br/>\n"
      ],
      "text/plain": [
       "<IPython.core.display.HTML object>"
      ]
     },
     "metadata": {},
     "output_type": "display_data"
    },
    {
     "data": {
      "text/html": [
       "Successfully finished last run (ID:234wr1or). Initializing new run:<br/>"
      ],
      "text/plain": [
       "<IPython.core.display.HTML object>"
      ]
     },
     "metadata": {},
     "output_type": "display_data"
    },
    {
     "data": {
      "text/html": [
       "\n",
       "                    Syncing run <strong><a href=\"https://wandb.ai/alpayozkan/vision/runs/179atd5y\" target=\"_blank\">fresh-deluge-31</a></strong> to <a href=\"https://wandb.ai/alpayozkan/vision\" target=\"_blank\">Weights & Biases</a> (<a href=\"https://docs.wandb.com/integrations/jupyter.html\" target=\"_blank\">docs</a>).<br/>\n",
       "\n",
       "                "
      ],
      "text/plain": [
       "<IPython.core.display.HTML object>"
      ]
     },
     "metadata": {},
     "output_type": "display_data"
    },
    {
     "name": "stdout",
     "output_type": "stream",
     "text": [
      "Net(\n",
      "  (conv1): Conv2d(1, 8, kernel_size=(3, 3), stride=(1, 1), padding=(1, 1))\n",
      "  (conv2): Conv2d(8, 8, kernel_size=(3, 3), stride=(1, 1), padding=(1, 1))\n",
      "  (conv3): Conv2d(8, 8, kernel_size=(3, 3), stride=(1, 1), padding=(1, 1))\n",
      "  (conv4): Conv2d(8, 3, kernel_size=(3, 3), stride=(1, 1), padding=(1, 1))\n",
      "  (relu): ReLU()\n",
      ")\n",
      "training begins\n"
     ]
    },
    {
     "data": {
      "application/vnd.jupyter.widget-view+json": {
       "model_id": "a01cf97f9806440caf12c6d6e2e8d596",
       "version_major": 2,
       "version_minor": 0
      },
      "text/plain": [
       "  0%|          | 0/100 [00:00<?, ?it/s]"
      ]
     },
     "metadata": {},
     "output_type": "display_data"
    }
   ],
   "source": [
    "model = model_pipeline(config)"
   ]
  },
  {
   "cell_type": "code",
   "execution_count": null,
   "metadata": {},
   "outputs": [],
   "source": []
  },
  {
   "cell_type": "code",
   "execution_count": null,
   "metadata": {},
   "outputs": [],
   "source": []
  }
 ],
 "metadata": {
  "accelerator": "GPU",
  "colab": {
   "collapsed_sections": [],
   "name": "vision_conv_exp_wandb.ipynb",
   "provenance": []
  },
  "kernelspec": {
   "display_name": "Python 3",
   "language": "python",
   "name": "python3"
  },
  "language_info": {
   "codemirror_mode": {
    "name": "ipython",
    "version": 3
   },
   "file_extension": ".py",
   "mimetype": "text/x-python",
   "name": "python",
   "nbconvert_exporter": "python",
   "pygments_lexer": "ipython3",
   "version": "3.8.12"
  },
  "widgets": {
   "application/vnd.jupyter.widget-state+json": {
    "012046de6db544a192d26e05649225d6": {
     "model_module": "@jupyter-widgets/base",
     "model_module_version": "1.2.0",
     "model_name": "LayoutModel",
     "state": {
      "_model_module": "@jupyter-widgets/base",
      "_model_module_version": "1.2.0",
      "_model_name": "LayoutModel",
      "_view_count": null,
      "_view_module": "@jupyter-widgets/base",
      "_view_module_version": "1.2.0",
      "_view_name": "LayoutView",
      "align_content": null,
      "align_items": null,
      "align_self": null,
      "border": null,
      "bottom": null,
      "display": null,
      "flex": null,
      "flex_flow": null,
      "grid_area": null,
      "grid_auto_columns": null,
      "grid_auto_flow": null,
      "grid_auto_rows": null,
      "grid_column": null,
      "grid_gap": null,
      "grid_row": null,
      "grid_template_areas": null,
      "grid_template_columns": null,
      "grid_template_rows": null,
      "height": null,
      "justify_content": null,
      "justify_items": null,
      "left": null,
      "margin": null,
      "max_height": null,
      "max_width": null,
      "min_height": null,
      "min_width": null,
      "object_fit": null,
      "object_position": null,
      "order": null,
      "overflow": null,
      "overflow_x": null,
      "overflow_y": null,
      "padding": null,
      "right": null,
      "top": null,
      "visibility": null,
      "width": null
     }
    },
    "5b65350156ba4f3b8e0740b507e80597": {
     "model_module": "@jupyter-widgets/base",
     "model_module_version": "1.2.0",
     "model_name": "LayoutModel",
     "state": {
      "_model_module": "@jupyter-widgets/base",
      "_model_module_version": "1.2.0",
      "_model_name": "LayoutModel",
      "_view_count": null,
      "_view_module": "@jupyter-widgets/base",
      "_view_module_version": "1.2.0",
      "_view_name": "LayoutView",
      "align_content": null,
      "align_items": null,
      "align_self": null,
      "border": null,
      "bottom": null,
      "display": null,
      "flex": null,
      "flex_flow": null,
      "grid_area": null,
      "grid_auto_columns": null,
      "grid_auto_flow": null,
      "grid_auto_rows": null,
      "grid_column": null,
      "grid_gap": null,
      "grid_row": null,
      "grid_template_areas": null,
      "grid_template_columns": null,
      "grid_template_rows": null,
      "height": null,
      "justify_content": null,
      "justify_items": null,
      "left": null,
      "margin": null,
      "max_height": null,
      "max_width": null,
      "min_height": null,
      "min_width": null,
      "object_fit": null,
      "object_position": null,
      "order": null,
      "overflow": null,
      "overflow_x": null,
      "overflow_y": null,
      "padding": null,
      "right": null,
      "top": null,
      "visibility": null,
      "width": null
     }
    },
    "72e1a11f54cb4a72bb87495f96150e88": {
     "model_module": "@jupyter-widgets/controls",
     "model_module_version": "1.5.0",
     "model_name": "HBoxModel",
     "state": {
      "_dom_classes": [],
      "_model_module": "@jupyter-widgets/controls",
      "_model_module_version": "1.5.0",
      "_model_name": "HBoxModel",
      "_view_count": null,
      "_view_module": "@jupyter-widgets/controls",
      "_view_module_version": "1.5.0",
      "_view_name": "HBoxView",
      "box_style": "",
      "children": [
       "IPY_MODEL_c5b5e8638fe74ab1927d89bdeab96c44",
       "IPY_MODEL_ee449c40cc1f4dc283c25a4fd0db468c",
       "IPY_MODEL_ffdbdd3093704093a6fd215b07bd2ccf"
      ],
      "layout": "IPY_MODEL_b98d2e5e9645421891798750cb1f9f86"
     }
    },
    "b98d2e5e9645421891798750cb1f9f86": {
     "model_module": "@jupyter-widgets/base",
     "model_module_version": "1.2.0",
     "model_name": "LayoutModel",
     "state": {
      "_model_module": "@jupyter-widgets/base",
      "_model_module_version": "1.2.0",
      "_model_name": "LayoutModel",
      "_view_count": null,
      "_view_module": "@jupyter-widgets/base",
      "_view_module_version": "1.2.0",
      "_view_name": "LayoutView",
      "align_content": null,
      "align_items": null,
      "align_self": null,
      "border": null,
      "bottom": null,
      "display": null,
      "flex": null,
      "flex_flow": null,
      "grid_area": null,
      "grid_auto_columns": null,
      "grid_auto_flow": null,
      "grid_auto_rows": null,
      "grid_column": null,
      "grid_gap": null,
      "grid_row": null,
      "grid_template_areas": null,
      "grid_template_columns": null,
      "grid_template_rows": null,
      "height": null,
      "justify_content": null,
      "justify_items": null,
      "left": null,
      "margin": null,
      "max_height": null,
      "max_width": null,
      "min_height": null,
      "min_width": null,
      "object_fit": null,
      "object_position": null,
      "order": null,
      "overflow": null,
      "overflow_x": null,
      "overflow_y": null,
      "padding": null,
      "right": null,
      "top": null,
      "visibility": null,
      "width": null
     }
    },
    "c5b5e8638fe74ab1927d89bdeab96c44": {
     "model_module": "@jupyter-widgets/controls",
     "model_module_version": "1.5.0",
     "model_name": "HTMLModel",
     "state": {
      "_dom_classes": [],
      "_model_module": "@jupyter-widgets/controls",
      "_model_module_version": "1.5.0",
      "_model_name": "HTMLModel",
      "_view_count": null,
      "_view_module": "@jupyter-widgets/controls",
      "_view_module_version": "1.5.0",
      "_view_name": "HTMLView",
      "description": "",
      "description_tooltip": null,
      "layout": "IPY_MODEL_5b65350156ba4f3b8e0740b507e80597",
      "placeholder": "​",
      "style": "IPY_MODEL_dac0f0c16f474eafbde28409e357c3a1",
      "value": "  0%"
     }
    },
    "c85c33331aee4bdda5b3dc28acdd0535": {
     "model_module": "@jupyter-widgets/base",
     "model_module_version": "1.2.0",
     "model_name": "LayoutModel",
     "state": {
      "_model_module": "@jupyter-widgets/base",
      "_model_module_version": "1.2.0",
      "_model_name": "LayoutModel",
      "_view_count": null,
      "_view_module": "@jupyter-widgets/base",
      "_view_module_version": "1.2.0",
      "_view_name": "LayoutView",
      "align_content": null,
      "align_items": null,
      "align_self": null,
      "border": null,
      "bottom": null,
      "display": null,
      "flex": null,
      "flex_flow": null,
      "grid_area": null,
      "grid_auto_columns": null,
      "grid_auto_flow": null,
      "grid_auto_rows": null,
      "grid_column": null,
      "grid_gap": null,
      "grid_row": null,
      "grid_template_areas": null,
      "grid_template_columns": null,
      "grid_template_rows": null,
      "height": null,
      "justify_content": null,
      "justify_items": null,
      "left": null,
      "margin": null,
      "max_height": null,
      "max_width": null,
      "min_height": null,
      "min_width": null,
      "object_fit": null,
      "object_position": null,
      "order": null,
      "overflow": null,
      "overflow_x": null,
      "overflow_y": null,
      "padding": null,
      "right": null,
      "top": null,
      "visibility": null,
      "width": null
     }
    },
    "dac0f0c16f474eafbde28409e357c3a1": {
     "model_module": "@jupyter-widgets/controls",
     "model_module_version": "1.5.0",
     "model_name": "DescriptionStyleModel",
     "state": {
      "_model_module": "@jupyter-widgets/controls",
      "_model_module_version": "1.5.0",
      "_model_name": "DescriptionStyleModel",
      "_view_count": null,
      "_view_module": "@jupyter-widgets/base",
      "_view_module_version": "1.2.0",
      "_view_name": "StyleView",
      "description_width": ""
     }
    },
    "dec1807cf547400899d42e4b6e42b5bf": {
     "model_module": "@jupyter-widgets/controls",
     "model_module_version": "1.5.0",
     "model_name": "ProgressStyleModel",
     "state": {
      "_model_module": "@jupyter-widgets/controls",
      "_model_module_version": "1.5.0",
      "_model_name": "ProgressStyleModel",
      "_view_count": null,
      "_view_module": "@jupyter-widgets/base",
      "_view_module_version": "1.2.0",
      "_view_name": "StyleView",
      "bar_color": null,
      "description_width": ""
     }
    },
    "e65e79f5e637469f9834735048c085fc": {
     "model_module": "@jupyter-widgets/controls",
     "model_module_version": "1.5.0",
     "model_name": "DescriptionStyleModel",
     "state": {
      "_model_module": "@jupyter-widgets/controls",
      "_model_module_version": "1.5.0",
      "_model_name": "DescriptionStyleModel",
      "_view_count": null,
      "_view_module": "@jupyter-widgets/base",
      "_view_module_version": "1.2.0",
      "_view_name": "StyleView",
      "description_width": ""
     }
    },
    "ee449c40cc1f4dc283c25a4fd0db468c": {
     "model_module": "@jupyter-widgets/controls",
     "model_module_version": "1.5.0",
     "model_name": "FloatProgressModel",
     "state": {
      "_dom_classes": [],
      "_model_module": "@jupyter-widgets/controls",
      "_model_module_version": "1.5.0",
      "_model_name": "FloatProgressModel",
      "_view_count": null,
      "_view_module": "@jupyter-widgets/controls",
      "_view_module_version": "1.5.0",
      "_view_name": "ProgressView",
      "bar_style": "",
      "description": "",
      "description_tooltip": null,
      "layout": "IPY_MODEL_012046de6db544a192d26e05649225d6",
      "max": 100,
      "min": 0,
      "orientation": "horizontal",
      "style": "IPY_MODEL_dec1807cf547400899d42e4b6e42b5bf",
      "value": 0
     }
    },
    "ffdbdd3093704093a6fd215b07bd2ccf": {
     "model_module": "@jupyter-widgets/controls",
     "model_module_version": "1.5.0",
     "model_name": "HTMLModel",
     "state": {
      "_dom_classes": [],
      "_model_module": "@jupyter-widgets/controls",
      "_model_module_version": "1.5.0",
      "_model_name": "HTMLModel",
      "_view_count": null,
      "_view_module": "@jupyter-widgets/controls",
      "_view_module_version": "1.5.0",
      "_view_name": "HTMLView",
      "description": "",
      "description_tooltip": null,
      "layout": "IPY_MODEL_c85c33331aee4bdda5b3dc28acdd0535",
      "placeholder": "​",
      "style": "IPY_MODEL_e65e79f5e637469f9834735048c085fc",
      "value": " 0/100 [00:00&lt;?, ?it/s]"
     }
    }
   }
  }
 },
 "nbformat": 4,
 "nbformat_minor": 4
}
